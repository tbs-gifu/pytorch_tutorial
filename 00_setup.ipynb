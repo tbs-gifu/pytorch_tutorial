{
 "cells": [
  {
   "cell_type": "markdown",
   "id": "communist-purchase",
   "metadata": {},
   "source": [
    "##  準備ファイル\n",
    "\n",
    "本ファイルでは、使用するフォルダの作成とファイルのダウンロードを行います\n",
    "\n",
    "すべてのセルを実行してデータセットがダウンロードされているかを確認してください"
   ]
  },
  {
   "cell_type": "code",
   "execution_count": null,
   "id": "eleven-berry",
   "metadata": {},
   "outputs": [],
   "source": [
    "import os\n",
    "import shutil\n",
    "import torchvision\n",
    "from tqdm import tqdm"
   ]
  },
  {
   "cell_type": "code",
   "execution_count": null,
   "id": "marine-action",
   "metadata": {},
   "outputs": [],
   "source": [
    "root_dir = \"./dataset\"\n",
    "phases = [\"train\", \"validation\", \"test\"]\n",
    "\n",
    "for phase in phases:\n",
    "    for num in range(10):\n",
    "        dataset_dir = os.path.join(root_dir, phase, str(num))\n",
    "        os.makedirs(dataset_dir, exist_ok=True)"
   ]
  },
  {
   "cell_type": "code",
   "execution_count": null,
   "id": "differential-jumping",
   "metadata": {},
   "outputs": [],
   "source": [
    "trainset = torchvision.datasets.MNIST(root=root_dir, train=True, download=True)\n",
    "testset = torchvision.datasets.MNIST(root=root_dir, train=False, download=True)"
   ]
  },
  {
   "cell_type": "code",
   "execution_count": null,
   "id": "finished-second",
   "metadata": {},
   "outputs": [],
   "source": [
    "train_size = trainset.__len__()\n",
    "test_size = testset.__len__()\n",
    "validation_split = 0.1\n",
    "count_list = {phase:[0]*10 for phase in phases}"
   ]
  },
  {
   "cell_type": "code",
   "execution_count": null,
   "id": "horizontal-windsor",
   "metadata": {},
   "outputs": [],
   "source": [
    "for i in tqdm(range(train_size + test_size)):\n",
    "\n",
    "    if i < train_size:\n",
    "        phase = \"train\"\n",
    "        if i >= train_size*(1-validation_split):\n",
    "            phase = \"validation\"\n",
    "        image = trainset.__getitem__(i)[0]\n",
    "        label = trainset.__getitem__(i)[1]\n",
    "    else:\n",
    "        phase = \"test\"\n",
    "        image = testset.__getitem__(i-train_size)[0]\n",
    "        label = testset.__getitem__(i-train_size)[1]\n",
    "    \n",
    "    count = count_list[phase][label]\n",
    "    count_list[phase][label] += 1\n",
    "\n",
    "    save_path = os.path.join(root_dir, phase, str(label), \"{:04d}.png\".format(count))\n",
    "    image.save(save_path)\n",
    "\n",
    "shutil.rmtree(os.path.join(root_dir, \"MNIST\"))"
   ]
  },
  {
   "cell_type": "code",
   "execution_count": null,
   "id": "faced-sigma",
   "metadata": {},
   "outputs": [],
   "source": []
  }
 ],
 "metadata": {
  "kernelspec": {
   "display_name": "test",
   "language": "python",
   "name": "test"
  },
  "language_info": {
   "codemirror_mode": {
    "name": "ipython",
    "version": 3
   },
   "file_extension": ".py",
   "mimetype": "text/x-python",
   "name": "python",
   "nbconvert_exporter": "python",
   "pygments_lexer": "ipython3",
   "version": "3.8.8"
  }
 },
 "nbformat": 4,
 "nbformat_minor": 5
}
