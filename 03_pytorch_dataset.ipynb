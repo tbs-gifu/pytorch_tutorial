{
 "cells": [
  {
   "cell_type": "markdown",
   "metadata": {},
   "source": [
    "# 03 Pytorch Dataset\n",
    "#### ＝＝＝ 目次 ＝＝＝\n",
    "0. ライブラリの呼び出し\n",
    "1. transforms\n",
    "2. Dataset\n",
    "3. DataLoader\n",
    "4. 学習・予測\n",
    "\n",
    "補足資料\n",
    "\n",
    "5. tqdmを用いたプログレスバーへの学習結果の出力"
   ]
  },
  {
   "cell_type": "markdown",
   "metadata": {},
   "source": [
    "#### PyTorchで自作データセットを利用するために以下を定義する\n",
    "- transforms：データの前処理を記述するモジュール\n",
    "- Dataset：データをtransformsしてラベルと合わせて返すモジュール\n",
    "- DataLoader：学習のためにデータをバッチサイズに分割してイテレータを返す"
   ]
  },
  {
   "cell_type": "markdown",
   "metadata": {},
   "source": [
    "---\n",
    "## 0. ライブラリの呼び出し"
   ]
  },
  {
   "cell_type": "code",
   "execution_count": null,
   "metadata": {},
   "outputs": [],
   "source": [
    "import torch\n",
    "import torch.nn as nn\n",
    "import torch.nn.functional as F\n",
    "import torch.optim as optim\n",
    "import torch.utils.data as data\n",
    "from torchvision import transforms"
   ]
  },
  {
   "cell_type": "code",
   "execution_count": null,
   "metadata": {},
   "outputs": [],
   "source": [
    "import os\n",
    "import numpy as np\n",
    "import matplotlib.pyplot as plt\n",
    "import cv2\n",
    "from glob import glob\n",
    "from tqdm import tqdm"
   ]
  },
  {
   "cell_type": "markdown",
   "metadata": {},
   "source": [
    "---\n",
    "## 使用するデータセット：MNIST\n",
    "- 0～9の10クラスの手書き数字画像\n",
    "- サイズ：28×28のグレースケール(チャンネル数1)"
   ]
  },
  {
   "cell_type": "code",
   "execution_count": null,
   "metadata": {},
   "outputs": [],
   "source": [
    "image_path = './dataset/train/0/0000.png'\n",
    "image = cv2.imread(image_path, cv2.IMREAD_GRAYSCALE)\n",
    "print(image.shape)\n",
    "plt.imshow(image, cmap=\"gray\")\n",
    "plt.show()"
   ]
  },
  {
   "cell_type": "markdown",
   "metadata": {},
   "source": [
    "---\n",
    "## 1. transforms\n",
    "- [torchvision.transforms](https://pytorch.org/docs/stable/torchvision/transforms.html)：画像データに対する前処理を記述するモジュール\n",
    "- 正規化や標準化，Data Augmentation(DA)など\n",
    "- 複数の前処理を行う場合は`transforms.Compose`を用いる\n",
    "\n",
    "|<div align='center'>前処理</div>|<div align='center'>意味</div>|\n",
    "|---|---|\n",
    "|<div align='left'>Compose(transforms)</div>|<div align='left'>複数の前処理をリストとして受け取り結合する</div>|\n",
    "|<div align='left'>ToTensor()</div>|<div align='left'>PIL Image or numpy.ndarray(H, W, C) range [0, 255] → tensor(C, H, W) range [0, 1] (正規化)</div>|\n",
    "|<div align='left'>Normalize(mean, std)</div>|<div align='left'>指定した値で正規化 (input - mean) / std</div>|\n",
    "|<div align='left'>Resize(size)</div>|<div align='left'>指定したサイズにリサイズ</div>|\n",
    "|<div align='left'>CenterCrop(size)</div>|<div align='left'>画像中央をsize×sizeで切り取り</div>|\n",
    "|<div align='left'>RandomResizedCrop(size, scale, ratio)</div>|<div align='left'>(DA)指定した比率のサイズとアスペクト比でトリミング</div>|\n",
    "|<div align='left'>RandomHorizontalFlip(p)</div>|<div align='left'>(DA)指定した確率で水平反転</div>|\n",
    "|<div align='left'>Lambda(lambd)</div>|<div align='left'>自作lambdaを適用</div>|"
   ]
  },
  {
   "cell_type": "markdown",
   "metadata": {},
   "source": [
    "`transforms.ToTensor()`"
   ]
  },
  {
   "cell_type": "code",
   "execution_count": null,
   "metadata": {},
   "outputs": [],
   "source": [
    "transform = transforms.ToTensor()\n",
    "transformed_image = transform(image)\n",
    "\n",
    "print(type(transformed_image))\n",
    "print(transformed_image.shape)\n",
    "print(transformed_image.min(), transformed_image.max())"
   ]
  },
  {
   "cell_type": "markdown",
   "metadata": {},
   "source": [
    "`transforms.Compose(transforms)`"
   ]
  },
  {
   "cell_type": "code",
   "execution_count": null,
   "metadata": {},
   "outputs": [],
   "source": [
    "transform = transforms.Compose([\n",
    "                transforms.ToTensor(),\n",
    "                transforms.Normalize(mean=(0.5,), std=(1,))])\n",
    "transformed_image = transform(image)\n",
    "\n",
    "print(type(transformed_image))\n",
    "print(transformed_image.shape)\n",
    "print(transformed_image.min(), transformed_image.max())"
   ]
  },
  {
   "cell_type": "markdown",
   "metadata": {},
   "source": [
    "## transformsをクラスとして定義\n",
    "train, validation, testそれぞれで前処理を分ける場合(特にDAなど)，クラスとして定義すると便利                      "
   ]
  },
  {
   "cell_type": "code",
   "execution_count": null,
   "metadata": {},
   "outputs": [],
   "source": [
    "class ImageTransform():\n",
    "    \n",
    "    def __init__(self):\n",
    "        self.data_transform = {\n",
    "            'train': transforms.Compose([transforms.ToTensor()]),\n",
    "            'validation': transforms.Compose([transforms.ToTensor()]),\n",
    "            'test': transforms.Compose([transforms.ToTensor()])\n",
    "        }\n",
    "\n",
    "    def __call__(self, image, phase='train'):\n",
    "        return self.data_transform[phase](image)"
   ]
  },
  {
   "cell_type": "code",
   "execution_count": null,
   "metadata": {},
   "outputs": [],
   "source": [
    "image_path = './dataset/train/0/0000.png'\n",
    "image = cv2.imread(image_path, cv2.IMREAD_GRAYSCALE)\n",
    "\n",
    "transform = ImageTransform()\n",
    "transformed_image = transform(image, \"train\")\n",
    "\n",
    "print(type(transformed_image))\n",
    "print(transformed_image.shape)\n",
    "print(transformed_image.min(), transformed_image.max())"
   ]
  },
  {
   "cell_type": "markdown",
   "metadata": {},
   "source": [
    "---\n",
    "## 2. Dataset\n",
    "`torch.utils.data.Dataset`：データをtransformsしてラベルと合わせて返すモジュール\n",
    "\n",
    "`Dataset`を継承して`__init__`，`__len__`，`__getitem__`メソッドを定義したクラスを作成\n",
    "- `__init__`：コンストラクタ(初期化メソッド)\n",
    "- `__len__`：画像の枚数を返す\n",
    "- `__getitem__`：前処理をした画像のTensor形式のデータとラベルを返す"
   ]
  },
  {
   "cell_type": "code",
   "execution_count": null,
   "metadata": {},
   "outputs": [],
   "source": [
    "# MNISTのDatasetを作成する\n",
    "\n",
    "class MNISTDataset(data.Dataset):\n",
    "\n",
    "    def __init__(self, phase='train', transform=None):\n",
    "        \n",
    "        target_path = os.path.join('dataset', phase, '**/*.png')\n",
    "        path_list = glob(target_path)\n",
    "        \n",
    "        images = []\n",
    "        labels = []\n",
    "        \n",
    "        for path in tqdm(path_list):\n",
    "            image = cv2.imread(path, cv2.IMREAD_GRAYSCALE)\n",
    "            label = int(path.split(os.sep)[2]) # 画像のラベルをファイル名から取得\n",
    "            images.append(image)\n",
    "            labels.append(label)\n",
    "        \n",
    "        self.transform = transform\n",
    "        self.phase = phase\n",
    "        self.images = images\n",
    "        self.labels = labels\n",
    "        \n",
    "    def __len__(self):\n",
    "        return len(self.images)\n",
    "\n",
    "    def __getitem__(self, index):\n",
    "\n",
    "        # index番目の画像，ラベル\n",
    "        image = self.images[index]  # H×W×C\n",
    "        label = self.labels[index]\n",
    "\n",
    "        image_transformed = self.transform(image, self.phase) # C×H×W\n",
    "\n",
    "        return image_transformed, label"
   ]
  },
  {
   "cell_type": "code",
   "execution_count": null,
   "metadata": {},
   "outputs": [],
   "source": [
    "# 実行\n",
    "train_dataset = MNISTDataset(phase='train', transform=ImageTransform())\n",
    "val_dataset = MNISTDataset(phase='validation', transform=ImageTransform())"
   ]
  },
  {
   "cell_type": "code",
   "execution_count": null,
   "metadata": {},
   "outputs": [],
   "source": [
    "# 動作確認\n",
    "index = 0\n",
    "print(train_dataset.__getitem__(index)[0].size())\n",
    "print(train_dataset.__getitem__(index)[1])"
   ]
  },
  {
   "cell_type": "markdown",
   "metadata": {},
   "source": [
    "---\n",
    "## 3. DataLoader\n",
    "`torch.utils.data.DataLoader(dataset, batch_size, shuffle)`：データをバッチサイズに分割してイテレータ$^{*1}$を返す関数\n",
    "- `dataset`：2で作成した`Dataset`\n",
    "- `batch_size`：ミニバッチのサイズ\n",
    "- `shuffle`：dataの参照の仕方をランダムにするか否か\n",
    "\n",
    "$^{*1}$ 要素を反復して取り出すことのできるオブジェクト(list, tuple, rangeなどの総称)"
   ]
  },
  {
   "cell_type": "code",
   "execution_count": null,
   "metadata": {},
   "outputs": [],
   "source": [
    "batch_size = 32\n",
    "\n",
    "# DataLoaderを作成\n",
    "train_dataloader = torch.utils.data.DataLoader(train_dataset, batch_size=batch_size, shuffle=True)\n",
    "val_dataloader = torch.utils.data.DataLoader(val_dataset, batch_size=batch_size, shuffle=False)\n",
    "\n",
    "# 辞書型変数にまとめる\n",
    "dataloaders_dict = {\"train\": train_dataloader, \"validation\": val_dataloader}"
   ]
  },
  {
   "cell_type": "code",
   "execution_count": null,
   "metadata": {},
   "outputs": [],
   "source": [
    "# 動作確認\n",
    "inputs, labels = list(dataloaders_dict[\"train\"])[0] # 0番目のバッチ\n",
    "print(inputs.shape)\n",
    "print(labels)"
   ]
  },
  {
   "cell_type": "markdown",
   "metadata": {},
   "source": [
    "---\n",
    "## 4. 学習\n",
    "0. deviceを定義(GPU or CPU)\n",
    "1. 学習データを用意\n",
    "2. モデルの定義\n",
    "3. loss関数，optimizerを定義\n",
    "4. データをモデルに入力しlossを計算し，backpropagation，パラメータ更新\n",
    "\n",
    "#### 0. deviceを定義(GPU or CPU)"
   ]
  },
  {
   "cell_type": "code",
   "execution_count": null,
   "metadata": {},
   "outputs": [],
   "source": [
    "# GPUが使えるかを確認\n",
    "device = torch.device(\"cuda:0\" if torch.cuda.is_available() else \"cpu\")\n",
    "print(\"使用デバイス：\", device)"
   ]
  },
  {
   "cell_type": "markdown",
   "metadata": {},
   "source": [
    "#### 1. 学習データを用意"
   ]
  },
  {
   "cell_type": "code",
   "execution_count": null,
   "metadata": {},
   "outputs": [],
   "source": [
    "batch_size = 32\n",
    "\n",
    "# Datasetを作成\n",
    "train_dataset = MNISTDataset(phase='train', transform=ImageTransform())\n",
    "val_dataset = MNISTDataset(phase='validation', transform=ImageTransform())\n",
    "\n",
    "# DataLoaderを作成\n",
    "train_dataloader = torch.utils.data.DataLoader(train_dataset, batch_size=batch_size, shuffle=True)\n",
    "val_dataloader = torch.utils.data.DataLoader(val_dataset, batch_size=batch_size, shuffle=False)\n",
    "\n",
    "# 辞書型変数にまとめる\n",
    "dataloaders_dict = {\"train\": train_dataloader, \"validation\": val_dataloader}"
   ]
  },
  {
   "cell_type": "markdown",
   "metadata": {},
   "source": [
    "#### 2. モデルの定義"
   ]
  },
  {
   "cell_type": "code",
   "execution_count": null,
   "metadata": {},
   "outputs": [],
   "source": [
    "class Net(nn.Module):\n",
    "\n",
    "    def __init__(self):\n",
    "        super(Net, self).__init__()\n",
    "        self.conv = nn.Sequential(nn.Conv2d(1, 32, 3, padding=1), nn.ReLU(inplace=True), nn.MaxPool2d(2, 2),\n",
    "                                  nn.Conv2d(32, 64, 3, padding=1), nn.ReLU(inplace=True), nn.MaxPool2d(2, 2))\n",
    "        \n",
    "        self.fc = nn.Sequential(nn.Linear(64 * 7 * 7, 120), nn.ReLU(inplace=True),\n",
    "                                nn.Linear(120, 84), nn.ReLU(inplace=True),\n",
    "                                nn.Linear(84, 10))\n",
    "\n",
    "    def forward(self, x):\n",
    "        x = self.conv(x)\n",
    "        x = self.fc(x.view(-1, 64 * 7 * 7))\n",
    "        return x"
   ]
  },
  {
   "cell_type": "code",
   "execution_count": null,
   "metadata": {},
   "outputs": [],
   "source": [
    "# モデルの定義\n",
    "model = Net()\n",
    "\n",
    "# マルチGPUが使える場合\n",
    "if torch.cuda.device_count() > 1:\n",
    "    print(\"Let's use\", torch.cuda.device_count(), \"GPUs\")\n",
    "    model = nn.DataParallel(model)\n",
    "\n",
    "model.to(device) # モデルをGPUへ"
   ]
  },
  {
   "cell_type": "markdown",
   "metadata": {},
   "source": [
    "#### 3. loss関数，optimizerを定義"
   ]
  },
  {
   "cell_type": "code",
   "execution_count": null,
   "metadata": {},
   "outputs": [],
   "source": [
    "criterion = nn.CrossEntropyLoss()\n",
    "optimizer = optim.Adam(model.parameters(), lr=0.01)"
   ]
  },
  {
   "cell_type": "markdown",
   "metadata": {},
   "source": [
    "#### 4. データをモデルに入力しlossを計算し，backpropagation，パラメータ更新"
   ]
  },
  {
   "cell_type": "code",
   "execution_count": null,
   "metadata": {
    "scrolled": false
   },
   "outputs": [],
   "source": [
    "epochs = 2\n",
    "history = {\"train_loss\":[], \"val_loss\":[], \"train_acc\":[], \"val_acc\":[]} # 学習曲線用\n",
    "\n",
    "# ネットワークがある程度固定であれば、高速化させる\n",
    "torch.backends.cudnn.benchmark = True\n",
    "\n",
    "for epoch in range(epochs):\n",
    "    print('Epoch：{}/{}'.format(epoch+1, epochs))\n",
    "    \n",
    "    for phase in ['train', 'validation']:\n",
    "        if phase == 'train':\n",
    "            model.train()\n",
    "        else:\n",
    "            model.eval()\n",
    "            \n",
    "        epoch_loss = 0.0\n",
    "        epoch_corrects = 0\n",
    "        \n",
    "        for inputs, labels in tqdm(dataloaders_dict[phase]):\n",
    "            \n",
    "            # GPUが使えるならGPUにデータを送る\n",
    "            inputs = inputs.to(device)\n",
    "            labels = labels.to(device)\n",
    "\n",
    "            # 順伝播\n",
    "            with torch.set_grad_enabled(phase == 'train'):\n",
    "                optimizer.zero_grad()\n",
    "                outputs = model(inputs)\n",
    "                loss = criterion(outputs, labels)\n",
    "                _, preds = torch.max(outputs, 1)  # ラベルを予測\n",
    "\n",
    "                # train時は学習\n",
    "                if phase == 'train':\n",
    "                    loss.backward()\n",
    "                    optimizer.step()\n",
    "\n",
    "                epoch_loss += loss.item() * inputs.size(0)        # lossの合計を更新\n",
    "                epoch_corrects += torch.sum(preds == labels.data) # 正解数の合計を更新\n",
    "\n",
    "        # epochごとのlossと正解率を表示\n",
    "        epoch_loss = epoch_loss / len(dataloaders_dict[phase].dataset)\n",
    "        epoch_acc = epoch_corrects.double() / len(dataloaders_dict[phase].dataset)\n",
    "        \n",
    "        # historyにlossとaccuracyを保存\n",
    "        if phase == \"train\":\n",
    "            history[\"train_loss\"].append(epoch_loss)\n",
    "            history[\"train_acc\"].append(epoch_acc)\n",
    "        else:\n",
    "            history[\"val_loss\"].append(epoch_loss)\n",
    "            history[\"val_acc\"].append(epoch_acc)\n",
    "\n",
    "        print('{} loss: {:.4f} Acc: {:.4f}'.format(phase, epoch_loss, epoch_acc))"
   ]
  },
  {
   "cell_type": "markdown",
   "metadata": {},
   "source": [
    "#### モデルを保存"
   ]
  },
  {
   "cell_type": "code",
   "execution_count": null,
   "metadata": {},
   "outputs": [],
   "source": [
    "#保存用ディレクトリを作成\n",
    "import os\n",
    "os.makedirs(\"result\", exist_ok=True)\n",
    "\n",
    "# モデルを保存する\n",
    "torch.save(model.to('cpu').state_dict(), \"result/model_MNIST.pth\")"
   ]
  },
  {
   "cell_type": "markdown",
   "metadata": {},
   "source": [
    "#### 学習曲線"
   ]
  },
  {
   "cell_type": "code",
   "execution_count": null,
   "metadata": {},
   "outputs": [],
   "source": [
    "plt.title(\"loss\")\n",
    "plt.plot(history[\"train_loss\"], label=\"train\")\n",
    "plt.plot(history[\"val_loss\"], label=\"validation\")\n",
    "plt.legend(loc=\"best\")"
   ]
  },
  {
   "cell_type": "code",
   "execution_count": null,
   "metadata": {},
   "outputs": [],
   "source": [
    "plt.title(\"accuracy\")\n",
    "plt.plot(history[\"train_acc\"], label=\"train\")\n",
    "plt.plot(history[\"val_acc\"], label=\"validation\")\n",
    "plt.legend(loc=\"best\")"
   ]
  },
  {
   "cell_type": "markdown",
   "metadata": {},
   "source": [
    "---\n",
    "## 予測"
   ]
  },
  {
   "cell_type": "code",
   "execution_count": null,
   "metadata": {},
   "outputs": [],
   "source": [
    "batch_size = 32\n",
    "\n",
    "# Datasetを作成\n",
    "test_dataset = MNISTDataset(phase='test', transform=ImageTransform())\n",
    "\n",
    "# DataLoaderを作成\n",
    "test_dataloader = torch.utils.data.DataLoader(test_dataset, batch_size=batch_size, shuffle=False)"
   ]
  },
  {
   "cell_type": "code",
   "execution_count": null,
   "metadata": {},
   "outputs": [],
   "source": [
    "# 保存したモデルを読み込む。\n",
    "model = Net()\n",
    "model.load_state_dict(torch.load(\"result/model_MNIST.pth\"))\n",
    "\n",
    "# マルチGPUが使える場合\n",
    "if torch.cuda.device_count() > 1:\n",
    "    print(\"Let's use\", torch.cuda.device_count(), \"GPUs\")\n",
    "    model = nn.DataParallel(model)\n",
    "\n",
    "model.to(device) # モデルをGPUへ"
   ]
  },
  {
   "cell_type": "code",
   "execution_count": null,
   "metadata": {},
   "outputs": [],
   "source": [
    "correct = 0\n",
    "\n",
    "with torch.no_grad():\n",
    "    for inputs, labels in tqdm(test_dataloader):\n",
    "        # GPUが使えるならGPUにデータを送る\n",
    "        inputs = inputs.to(device)\n",
    "        labels = labels.to(device)\n",
    "        \n",
    "        outputs = model(inputs)\n",
    "        _, preds = torch.max(outputs, 1)\n",
    "        correct += torch.sum(preds == labels.data)\n",
    "test_acc = correct.double() / len(test_dataloader.dataset)\n",
    "print(\"Test Accuracy :\", test_acc.item())"
   ]
  },
  {
   "cell_type": "markdown",
   "metadata": {},
   "source": [
    "---\n",
    "# 補足資料\n",
    "## 5. tqdmを用いたプログレスバーへの学習結果の出力\n",
    "`tqdm(iterable, desc, postfix)`：処理の進捗状況をプログレスバーとして表示するためのパッケージ\n",
    "- iterable：イテレーター\n",
    "- desc：プログレスバーの前に表示する情報\n",
    "- postfix：プログレスバーの前に表示する情報"
   ]
  },
  {
   "cell_type": "code",
   "execution_count": null,
   "metadata": {},
   "outputs": [],
   "source": [
    "from time import sleep\n",
    "\n",
    "for n in tqdm(range(100), desc=\"[train]\", postfix={\"loss\":0.5, \"acc\":0.6}):\n",
    "    sleep(0.01)"
   ]
  },
  {
   "cell_type": "markdown",
   "metadata": {},
   "source": [
    "ループの中で動的に変更させたい場合は以下のようにする．"
   ]
  },
  {
   "cell_type": "code",
   "execution_count": null,
   "metadata": {},
   "outputs": [],
   "source": [
    "with tqdm(range(100)) as pbar:\n",
    "    for i, n in enumerate(pbar):\n",
    "        \n",
    "        # プログレスバーの前に表示\n",
    "        pbar.set_description(\"Epoch {} [train] \".format(i))\n",
    "        \n",
    "        # プログレスバーの後ろに表示\n",
    "        pbar.set_postfix({\"loss\":i, \"acc\":i})\n",
    "        sleep(0.01)"
   ]
  },
  {
   "cell_type": "code",
   "execution_count": null,
   "metadata": {},
   "outputs": [],
   "source": []
  }
 ],
 "metadata": {
  "kernelspec": {
   "display_name": "test",
   "language": "python",
   "name": "test"
  },
  "language_info": {
   "codemirror_mode": {
    "name": "ipython",
    "version": 3
   },
   "file_extension": ".py",
   "mimetype": "text/x-python",
   "name": "python",
   "nbconvert_exporter": "python",
   "pygments_lexer": "ipython3",
   "version": "3.7.3"
  }
 },
 "nbformat": 4,
 "nbformat_minor": 4
}
