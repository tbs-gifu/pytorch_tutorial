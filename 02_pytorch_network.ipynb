{
 "cells": [
  {
   "cell_type": "markdown",
   "metadata": {},
   "source": [
    "# 02 Pytorch Network\n",
    "#### ＝＝＝ 目次 ＝＝＝\n",
    "0. ライブラリの呼び出し\n",
    "1. Layer\n",
    "2. モデルの定義\n",
    "3. モデルの学習\n",
    "4. モデルの保存・読み込み\n",
    "\n",
    "補足資料\n",
    "\n",
    "5. 学習済みモデル\n",
    "6. 自作loss関数"
   ]
  },
  {
   "cell_type": "markdown",
   "metadata": {},
   "source": [
    "---\n",
    "## 0. ライブラリの呼び出し\n",
    "- [torch.nn](https://pytorch.org/docs/stable/nn.html)：NNを構成するためのモジュール (パラメータあり，クラス)\n",
    "- [torch.nn.functional](https://pytorch.org/docs/stable/nn.functional.html)：様々な関数を内包するモジュール (パラメータなし，関数)\n",
    "- [torch.optim](https://pytorch.org/docs/stable/optim.html)：optimizerを内包するモジュール\n",
    "- torchsummary*：NNの構造を把握するためのモジュール\n",
    "\n",
    "*pytorchライブラリに含まれていないため`pip install torch-summary`でインストールが必要"
   ]
  },
  {
   "cell_type": "code",
   "execution_count": null,
   "metadata": {},
   "outputs": [],
   "source": [
    "import torch\n",
    "import torch.nn as nn\n",
    "import torch.nn.functional as F\n",
    "import torch.optim as optim\n",
    "from torchsummary import summary"
   ]
  },
  {
   "cell_type": "markdown",
   "metadata": {},
   "source": [
    "---\n",
    "## 1. Layer\n",
    "\n",
    "|<div align='center'>layer</div>|<div align='center'>program</div>|<div align='center'>例</div>|\n",
    "|---|---|---|\n",
    "|<div align='left'>全結合層</div>|<div align='left'>nn.Linear(in_features, out_features)</div>|<div align='left'>nn.Linear(64, 10)</div>|\n",
    "|<div align='left'>畳み込み層</div>|<div align='left'>nn.Conv2d(in_channels, out_channels, kernel_size, stride, padding)</div>|<div align='left'>nn.Conv2d(3, 64, 3, 1, 1)</div>|\n",
    "|<div align='left'>プーリング層</div>|<div align='left'>nn.MaxPool2d(kernel_size, stride)</div>|<div align='left'>nn.MaxPool2d(2, 2)</div>|\n",
    "|<div align='left'>LSTM層</div>|<div align='left'>nn.LSTM(input_size, hidden_size, num_layers, bias, batch_first, dropout, bidirectional)</div>|<div align='left'>nn.MaxPool2d(2, 2)</div>|\n",
    "|<div align='left'>バッチ正規化</div>|<div align='left'>nn.BatchNorm2d(num_features)</div>|<div align='left'>nn.BatchNorm2d(64)</div>|\n",
    "|<div align='left'>ドロップアウト</div>|<div align='left'>nn.Dropout(p)</div>|<div align='left'>nn.Dropout(0.5)</div>|\n",
    "\n",
    "|<div align='center'>活性化関数</div>|<div align='center'>program (nn)</div>|<div align='center'>program (F)</div>|\n",
    "|---|---|---|\n",
    "|<div align='left'>ReLU</div>|<div align='left'>nn.ReLU(inplace=True)</div>|<div align='left'>F.relu</div>|\n",
    "|<div align='left'>Sigmoid</div>|<div align='left'>nn.Sigmoid()</div>|<div align='left'>F.sigmoid</div>|\n",
    "|<div align='left'>Tanh</div>|<div align='left'>nn.Tanh()</div>|<div align='left'>F.tanh</div>|\n",
    "|<div align='left'>Softmax</div>|<div align='left'>nn.Softmax(dim=1)</div>|<div align='left'>F.softmax</div>|\n",
    "\n",
    "|<div align='center'>Loss関数</div>|<div align='center'>program</div>|\n",
    "|---|---|\n",
    "|<div align='left'>Mean Squared Error</div>|<div align='left'>nn.MSELoss()</div>|\n",
    "|<div align='left'>Mean Average Error</div>|<div align='left'>nn.L1Loss()</div>|\n",
    "|<div align='left'>Cross Entropy$^{*1}$</div>|<div align='left'>nn.CrossEntropyLoss()</div>|\n",
    "|<div align='left'>Binary Cross Entropy</div>|<div align='left'>nn.BCELoss()</div>|\n",
    "|<div align='left'>Binary Cross Entropy with Sigmoid</div>|<div align='left'>nn.BCEWithLogitsLoss()</div>|\n",
    "\n",
    "$^{*1}$ softmax関数を内包していることに注意"
   ]
  },
  {
   "cell_type": "markdown",
   "metadata": {},
   "source": [
    "---\n",
    "#### 全結合層\n",
    "10次元 → 8次元"
   ]
  },
  {
   "cell_type": "code",
   "execution_count": null,
   "metadata": {},
   "outputs": [],
   "source": [
    "# 100個の10次元データ\n",
    "batch_size = 100\n",
    "dim_input = 10\n",
    "inputs = torch.randn(batch_size, dim_input)\n",
    "print(inputs.shape)"
   ]
  },
  {
   "cell_type": "code",
   "execution_count": null,
   "metadata": {},
   "outputs": [],
   "source": [
    "# 全結合層の定義\n",
    "fc = nn.Linear(in_features=10, out_features=8)\n",
    "print(fc)\n",
    "print(\"weight :\", fc.weight.shape)"
   ]
  },
  {
   "cell_type": "code",
   "execution_count": null,
   "metadata": {},
   "outputs": [],
   "source": [
    "outputs = fc(inputs)\n",
    "\n",
    "print(\"input :\", inputs.shape)\n",
    "print(\"output :\", outputs.shape)"
   ]
  },
  {
   "cell_type": "markdown",
   "metadata": {},
   "source": [
    "---\n",
    "#### 畳み込み層\n",
    "- 入力チャンネル：3\n",
    "- 出力チャンネル：64\n",
    "- カーネルサイズ：3\n",
    "- ストライド：1\n",
    "- ゼロパディング\n",
    "\n",
    "入力データ：10×10の32チャンネル画像\n",
    "$$(N, C, H, W) = (N, 32, 10, 10)^{*2}$$\n",
    "\n",
    "$^{*2}$ PytorchはChannel Firstの形式"
   ]
  },
  {
   "cell_type": "code",
   "execution_count": null,
   "metadata": {},
   "outputs": [],
   "source": [
    "# 100個の10×10の32チャンネル画像\n",
    "batch_size = 100\n",
    "inputs = torch.randn(batch_size, 32, 10, 10)\n",
    "print(inputs.shape)"
   ]
  },
  {
   "cell_type": "code",
   "execution_count": null,
   "metadata": {},
   "outputs": [],
   "source": [
    "conv = nn.Conv2d(in_channels=32, out_channels=64, kernel_size=3, stride=1, padding=1)\n",
    "print(conv)\n",
    "print(\"weight :\", conv.weight.shape)"
   ]
  },
  {
   "cell_type": "code",
   "execution_count": null,
   "metadata": {},
   "outputs": [],
   "source": [
    "outputs = conv(inputs)\n",
    "\n",
    "print(\"input :\", inputs.shape)\n",
    "print(\"output :\", outputs.shape)"
   ]
  },
  {
   "cell_type": "markdown",
   "metadata": {},
   "source": [
    "---\n",
    "#### プーリング層\n",
    "- カーネルサイズ：2\n",
    "- ストライド：2"
   ]
  },
  {
   "cell_type": "code",
   "execution_count": null,
   "metadata": {},
   "outputs": [],
   "source": [
    "# 100個の10×10の32チャンネル画像\n",
    "batch_size = 100\n",
    "inputs = torch.randn(batch_size, 32, 10, 10)\n",
    "print(inputs.shape)"
   ]
  },
  {
   "cell_type": "code",
   "execution_count": null,
   "metadata": {},
   "outputs": [],
   "source": [
    "pool = nn.MaxPool2d(2, 2)\n",
    "print(pool)"
   ]
  },
  {
   "cell_type": "code",
   "execution_count": null,
   "metadata": {},
   "outputs": [],
   "source": [
    "outputs = pool(inputs)\n",
    "\n",
    "print(\"input :\", inputs.shape)\n",
    "print(\"output :\", outputs.shape)"
   ]
  },
  {
   "cell_type": "markdown",
   "metadata": {},
   "source": [
    "#### Global Max Pooling\n",
    "pytorchにはGlobal Max Poolingが用意されていないので，`nn.AdaptiveMaxPool2d`を用いる"
   ]
  },
  {
   "cell_type": "code",
   "execution_count": null,
   "metadata": {},
   "outputs": [],
   "source": [
    "# 100個の10×10の32チャンネル画像\n",
    "batch_size = 100\n",
    "inputs = torch.randn(batch_size, 32, 10, 10)"
   ]
  },
  {
   "cell_type": "code",
   "execution_count": null,
   "metadata": {},
   "outputs": [],
   "source": [
    "gmp = nn.AdaptiveMaxPool2d((1, 1))\n",
    "print(gmp)"
   ]
  },
  {
   "cell_type": "code",
   "execution_count": null,
   "metadata": {},
   "outputs": [],
   "source": [
    "outputs = gmp(inputs)\n",
    "\n",
    "print(\"input :\", inputs.shape)\n",
    "print(\"output :\", outputs.shape)"
   ]
  },
  {
   "cell_type": "code",
   "execution_count": null,
   "metadata": {},
   "outputs": [],
   "source": [
    "outputs = outputs.squeeze()\n",
    "print(\"output :\", outputs.shape)"
   ]
  },
  {
   "cell_type": "markdown",
   "metadata": {},
   "source": [
    "---\n",
    "#### LSTM層\n",
    "- 入力サイズ：20\n",
    "- 出力サイズ：10\n",
    "\n",
    "入力データ：(バッチサイズ, 最大シーケンス長, 特徴量次元数) = (100, 50, 20)"
   ]
  },
  {
   "cell_type": "code",
   "execution_count": null,
   "metadata": {},
   "outputs": [],
   "source": [
    "# 100個の10×10の32チャンネル画像\n",
    "batch_size = 100\n",
    "inputs = torch.randn(batch_size, 50, 20)"
   ]
  },
  {
   "cell_type": "code",
   "execution_count": null,
   "metadata": {},
   "outputs": [],
   "source": [
    "lstm = nn.LSTM(input_size=20, hidden_size=10, batch_first=True)\n",
    "print(lstm)"
   ]
  },
  {
   "cell_type": "code",
   "execution_count": null,
   "metadata": {},
   "outputs": [],
   "source": [
    "outputs, (hiddens, cells) = lstm(inputs)\n",
    "print(outputs.shape)\n",
    "print(hiddens.shape)\n",
    "print(cells.shape)"
   ]
  },
  {
   "cell_type": "markdown",
   "metadata": {},
   "source": [
    "---\n",
    "#### 活性化関数"
   ]
  },
  {
   "cell_type": "code",
   "execution_count": null,
   "metadata": {},
   "outputs": [],
   "source": [
    "# 100個の10×10の32チャンネル画像\n",
    "batch_size = 100\n",
    "inputs = torch.randn(batch_size, 32, 10, 10)\n",
    "print(inputs.shape)"
   ]
  },
  {
   "cell_type": "code",
   "execution_count": null,
   "metadata": {},
   "outputs": [],
   "source": [
    "# nn.ReLU\n",
    "relu = nn.ReLU(inplace=True)\n",
    "print(relu)\n",
    "\n",
    "outputs = relu(inputs)\n",
    "print(outputs.shape)"
   ]
  },
  {
   "cell_type": "code",
   "execution_count": null,
   "metadata": {},
   "outputs": [],
   "source": [
    "# F.relu\n",
    "outputs = F.relu(inputs)\n",
    "print(outputs.shape)"
   ]
  },
  {
   "cell_type": "markdown",
   "metadata": {},
   "source": [
    "---\n",
    "#### 損失関数(loss)\n",
    "\n",
    "pytorchでは，loss関数の変数名は慣例で`criterion`が多い\n",
    "\n",
    "loss関数を通した実数値の変数名は`loss`が多い"
   ]
  },
  {
   "cell_type": "code",
   "execution_count": null,
   "metadata": {},
   "outputs": [],
   "source": [
    "targets = torch.ones_like(outputs)\n",
    "criterion = nn.MSELoss()\n",
    "loss = criterion(outputs, targets)\n",
    "print(loss)"
   ]
  },
  {
   "cell_type": "markdown",
   "metadata": {},
   "source": [
    "---\n",
    "## 2. モデルの定義\n",
    "NNは`nn.Module`を継承したクラスとして定義する．\n",
    "\n",
    "`__init__`と`forward`メソッドを必ず記述する．\n",
    "- `__init__`：パラメータを持つ層(nn)を定義する\n",
    "- `forward`：モデルの入力から出力までの計算を記述する(initで定義した層+Fで記述)\n",
    "\n",
    "シンプルな実装"
   ]
  },
  {
   "cell_type": "code",
   "execution_count": null,
   "metadata": {},
   "outputs": [],
   "source": [
    "class Net(nn.Module):\n",
    "\n",
    "    def __init__(self):\n",
    "        super(Net, self).__init__()\n",
    "        self.conv1 = nn.Conv2d(in_channels=1, out_channels=32, kernel_size=3, stride=1, padding=1)\n",
    "        self.conv2 = nn.Conv2d(in_channels=32, out_channels=64, kernel_size=3, stride=1, padding=1)\n",
    "        self.pool = nn.MaxPool2d(kernel_size=2, stride=2)\n",
    "        self.fc1 = nn.Linear(in_features=64 * 7 * 7, out_features=120)\n",
    "        self.fc2 = nn.Linear(in_features=120, out_features=84)\n",
    "        self.fc3 = nn.Linear(in_features=84, out_features=10)\n",
    "\n",
    "    def forward(self, x):\n",
    "        x = self.conv1(x)\n",
    "        x = F.relu(x)\n",
    "        x = self.pool(x)\n",
    "        \n",
    "        x = self.conv2(x)\n",
    "        x = F.relu(x)\n",
    "        x = self.pool(x)\n",
    "        \n",
    "        x = x.view(-1, 64 * 7 * 7)\n",
    "        x = self.fc1(x)\n",
    "        x = F.relu(x)\n",
    "        x = self.fc2(x)\n",
    "        x = F.relu(x)\n",
    "        x = self.fc3(x)\n",
    "        return x"
   ]
  },
  {
   "cell_type": "markdown",
   "metadata": {},
   "source": [
    "`summary(model, input)`：モデル構造や特徴マップのサイズ確認"
   ]
  },
  {
   "cell_type": "code",
   "execution_count": null,
   "metadata": {},
   "outputs": [],
   "source": [
    "model = Net()\n",
    "inputs = torch.randn(100, 1, 28, 28)\n",
    "summary(model, inputs)\n",
    "print(model)"
   ]
  },
  {
   "cell_type": "markdown",
   "metadata": {},
   "source": [
    "#### Sequentialを用いた実装\n",
    "`nn.Sequential`を用いることで，各層をまとめて定義することができる．"
   ]
  },
  {
   "cell_type": "code",
   "execution_count": null,
   "metadata": {},
   "outputs": [],
   "source": [
    "class Net(nn.Module):\n",
    "\n",
    "    def __init__(self):\n",
    "        super(Net, self).__init__()\n",
    "        self.conv = nn.Sequential(nn.Conv2d(1, 32, 3, padding=1), nn.ReLU(inplace=True), nn.MaxPool2d(2, 2),\n",
    "                                  nn.Conv2d(32, 64, 3, padding=1), nn.ReLU(inplace=True), nn.MaxPool2d(2, 2))\n",
    "        \n",
    "        self.fc = nn.Sequential(nn.Linear(64 * 7 * 7, 120), nn.ReLU(inplace=True),\n",
    "                                nn.Linear(120, 84), nn.ReLU(inplace=True),\n",
    "                                nn.Linear(84, 10))\n",
    "\n",
    "    def forward(self, x):\n",
    "        x = self.conv(x)\n",
    "        x = self.fc(x.view(-1, 64 * 7 * 7))\n",
    "        return x"
   ]
  },
  {
   "cell_type": "code",
   "execution_count": null,
   "metadata": {},
   "outputs": [],
   "source": [
    "model = Net()\n",
    "summary(model, torch.randn(100, 1, 28, 28))\n",
    "print(model)"
   ]
  },
  {
   "cell_type": "markdown",
   "metadata": {},
   "source": [
    "#### モデルの計算（順伝播）\n",
    "例なので乱数を入力データとする"
   ]
  },
  {
   "cell_type": "code",
   "execution_count": null,
   "metadata": {},
   "outputs": [],
   "source": [
    "# summaryを使用するとmodelはGPUに送られる\n",
    "model = model.to(\"cpu\")\n",
    "\n",
    "# 100個の28×28の1チャンネル画像\n",
    "batch_size = 100\n",
    "inputs = torch.randn(batch_size, 1, 28, 28)\n",
    "print(inputs.shape)"
   ]
  },
  {
   "cell_type": "code",
   "execution_count": null,
   "metadata": {},
   "outputs": [],
   "source": [
    "# 順伝播\n",
    "outputs = model(inputs)\n",
    "print(outputs.shape)"
   ]
  },
  {
   "cell_type": "markdown",
   "metadata": {},
   "source": [
    "#### モデルの各層の取得"
   ]
  },
  {
   "cell_type": "code",
   "execution_count": null,
   "metadata": {},
   "outputs": [],
   "source": [
    "model.conv"
   ]
  },
  {
   "cell_type": "code",
   "execution_count": null,
   "metadata": {},
   "outputs": [],
   "source": [
    "model.conv[0]"
   ]
  },
  {
   "cell_type": "markdown",
   "metadata": {},
   "source": [
    "#### モデルのパラメータ\n",
    "`model.parameters()`でモデルのパラメータをgeneratorとして取得できる\n",
    "\n",
    "optimizerの定義で渡す"
   ]
  },
  {
   "cell_type": "code",
   "execution_count": null,
   "metadata": {},
   "outputs": [],
   "source": [
    "model.parameters()"
   ]
  },
  {
   "cell_type": "markdown",
   "metadata": {},
   "source": [
    "#### モデルのphase"
   ]
  },
  {
   "cell_type": "code",
   "execution_count": null,
   "metadata": {},
   "outputs": [],
   "source": [
    "# モデルを訓練モードに\n",
    "model.train()"
   ]
  },
  {
   "cell_type": "code",
   "execution_count": null,
   "metadata": {},
   "outputs": [],
   "source": [
    "# モデルを検証モードに\n",
    "model.eval()"
   ]
  },
  {
   "cell_type": "markdown",
   "metadata": {},
   "source": [
    "---\n",
    "## 3. モデルの学習\n",
    "1. 学習データを用意\n",
    "2. モデルの定義\n",
    "3. loss関数，optimizerを定義\n",
    "4. データをモデルに入力し出力，lossを計算\n",
    "5. backpropagation，パラメータ更新"
   ]
  },
  {
   "cell_type": "markdown",
   "metadata": {},
   "source": [
    "#### 3-1. 学習データを用意\n",
    "今回は人工データ(乱数)を用いる\n",
    "- データ数(バッチサイズ)：100\n",
    "- 入力データ：28×28の1チャンネル画像\n",
    "- 教師データ：10クラスのラベル（pytorchではone-hot化しない）"
   ]
  },
  {
   "cell_type": "code",
   "execution_count": null,
   "metadata": {},
   "outputs": [],
   "source": [
    "batch_size = 100"
   ]
  },
  {
   "cell_type": "code",
   "execution_count": null,
   "metadata": {},
   "outputs": [],
   "source": [
    "# 100個の28×28の1チャンネル画像\n",
    "inputs = torch.randn(batch_size, 1, 28, 28)\n",
    "print(inputs.shape)"
   ]
  },
  {
   "cell_type": "code",
   "execution_count": null,
   "metadata": {},
   "outputs": [],
   "source": [
    "# 100個の10クラスの教師データ\n",
    "targets = torch.empty(batch_size, dtype=torch.long).random_(10)\n",
    "print(targets.shape)\n",
    "print(targets)"
   ]
  },
  {
   "cell_type": "markdown",
   "metadata": {},
   "source": [
    "GPUが使える場合は，読み込んだデータをdeviceに送る"
   ]
  },
  {
   "cell_type": "code",
   "execution_count": null,
   "metadata": {},
   "outputs": [],
   "source": [
    "# GPUが使えるかを確認\n",
    "device = torch.device(\"cuda:0\" if torch.cuda.is_available() else \"cpu\")\n",
    "print(\"使用デバイス：\", device)\n",
    "\n",
    "# GPUが使えるならGPUにデータを送る\n",
    "inputs = inputs.to(device)\n",
    "targets = targets.to(device)"
   ]
  },
  {
   "cell_type": "markdown",
   "metadata": {},
   "source": [
    "---\n",
    "#### 3-2. モデルの定義\n",
    "2.で定義したモデルを用いる"
   ]
  },
  {
   "cell_type": "code",
   "execution_count": null,
   "metadata": {},
   "outputs": [],
   "source": [
    "# モデルの定義\n",
    "model = Net()"
   ]
  },
  {
   "cell_type": "code",
   "execution_count": null,
   "metadata": {},
   "outputs": [],
   "source": [
    "# マルチGPUが使える場合\n",
    "if torch.cuda.device_count() > 1:\n",
    "    print(\"Let's use\", torch.cuda.device_count(), \"GPUs\")\n",
    "    model = nn.DataParallel(model)\n",
    "\n",
    "model.to(device) # モデルをGPUへ"
   ]
  },
  {
   "cell_type": "markdown",
   "metadata": {},
   "source": [
    "---\n",
    "#### 3-3. loss関数，optimizerを定義\n",
    "- loss関数：クロスエントロピー\n",
    "- optimizer：SGD"
   ]
  },
  {
   "cell_type": "code",
   "execution_count": null,
   "metadata": {},
   "outputs": [],
   "source": [
    "# loss関数の定義\n",
    "criterion = nn.CrossEntropyLoss()"
   ]
  },
  {
   "cell_type": "code",
   "execution_count": null,
   "metadata": {},
   "outputs": [],
   "source": [
    "# optimizerを定義\n",
    "optimizer = optim.SGD(model.parameters(), lr=0.1)"
   ]
  },
  {
   "cell_type": "markdown",
   "metadata": {},
   "source": [
    "---\n",
    "#### 3-4. データをモデルに入力し出力，lossを計算"
   ]
  },
  {
   "cell_type": "code",
   "execution_count": null,
   "metadata": {},
   "outputs": [],
   "source": [
    "# モデルを訓練モードに\n",
    "model.train()\n",
    "\n",
    "# 勾配を初期化\n",
    "optimizer.zero_grad() "
   ]
  },
  {
   "cell_type": "code",
   "execution_count": null,
   "metadata": {},
   "outputs": [],
   "source": [
    "# 順伝播\n",
    "outputs = model(inputs)\n",
    "loss = criterion(outputs, targets)\n",
    "print(loss)"
   ]
  },
  {
   "cell_type": "markdown",
   "metadata": {},
   "source": [
    "---\n",
    "#### 3-5. backpropagation，パラメータ更新"
   ]
  },
  {
   "cell_type": "code",
   "execution_count": null,
   "metadata": {},
   "outputs": [],
   "source": [
    "loss.backward()  # backpropagation\n",
    "optimizer.step() # 勾配を元にパラメータを更新"
   ]
  },
  {
   "cell_type": "markdown",
   "metadata": {},
   "source": [
    "これを，epoch，batch，train or validationでそれぞれfor文で回せばミニバッチ学習となる．"
   ]
  },
  {
   "cell_type": "markdown",
   "metadata": {},
   "source": [
    "---\n",
    "## 4. モデルの保存・読み込み\n",
    "|<div align='center'>Save</div>|<div align='center'>意味</div>|\n",
    "|---|---|\n",
    "|<div align='left'>model.state_dict()</div>|<div align='left'>モデルの学習可能なパラメータを返す</div>|\n",
    "|<div align='left'>torch.save(state_dict$^{*3}$, model_path$^{*4}$)</div>|<div align='left'>state_dictを指定したpathに保存する</div>|\n",
    "\n",
    "|<div align='center'>Load</div>|<div align='center'>意味</div>|\n",
    "|---|---|\n",
    "|<div align='left'>torch.load(model_path)</div>|<div align='left'>指定したpathのstate_dictを読み込む</div>|\n",
    "|<div align='left'>model.load_state_dict(state_dict)</div>|<div align='left'>state_dictをモデルに復元する</div>|\n",
    "\n",
    "$^{*3}$ モデルをGPUに送っている場合はCPUに戻してからstate_dictを取得する (エラー回避のため)\n",
    "\n",
    "$^{*4}$ 保存するファイルの拡張子は`.pth`が慣例"
   ]
  },
  {
   "cell_type": "code",
   "execution_count": null,
   "metadata": {},
   "outputs": [],
   "source": [
    "#保存用ディレクトリを作成\n",
    "import os\n",
    "os.makedirs(\"result\", exist_ok=True)\n",
    "\n",
    "# モデルを保存する。\n",
    "torch.save(model.to('cpu').state_dict(), \"result/model.pth\")"
   ]
  },
  {
   "cell_type": "code",
   "execution_count": null,
   "metadata": {},
   "outputs": [],
   "source": [
    "# 保存したモデルを読み込む。\n",
    "model = Net()\n",
    "model.load_state_dict(torch.load(\"result/model.pth\"))\n",
    "print(model)"
   ]
  },
  {
   "cell_type": "markdown",
   "metadata": {},
   "source": [
    "---\n",
    "# 補足資料\n",
    "## 5. 学習済みモデル\n",
    "[torchvision](https://pytorch.org/docs/stable/torchvision/index.html)：コンピュータビジョンにおける有名なデータセット(MNIST，COCOなど)，モデルアーキテクチャ，画像変換処理から構成される"
   ]
  },
  {
   "cell_type": "code",
   "execution_count": null,
   "metadata": {},
   "outputs": [],
   "source": [
    "import torchvision"
   ]
  },
  {
   "cell_type": "code",
   "execution_count": null,
   "metadata": {},
   "outputs": [],
   "source": [
    "# pretrained=Trueにすることで，学習済みのパラメータを設定\n",
    "vgg = torchvision.models.vgg16(pretrained=True)"
   ]
  },
  {
   "cell_type": "code",
   "execution_count": null,
   "metadata": {
    "scrolled": false
   },
   "outputs": [],
   "source": [
    "print(vgg)"
   ]
  },
  {
   "cell_type": "markdown",
   "metadata": {},
   "source": [
    "---\n",
    "## 6. 自作loss関数\n",
    "モデルの定義と同様に`nn.Module`を継承したクラスとして定義する"
   ]
  },
  {
   "cell_type": "code",
   "execution_count": null,
   "metadata": {},
   "outputs": [],
   "source": [
    "class MyLoss(nn.Module):\n",
    "\n",
    "    def __init__(self):\n",
    "        super(MyLoss, self).__init__()\n",
    "\n",
    "    def forward(self, outputs, targets):\n",
    "        return torch.mean(torch.pow((outputs - targets),2))"
   ]
  },
  {
   "cell_type": "code",
   "execution_count": null,
   "metadata": {},
   "outputs": [],
   "source": [
    "batch_size = 100\n",
    "outputs =  torch.randn(batch_size, 3, 28, 28)\n",
    "targets =  torch.randn(batch_size, 3, 28, 28)"
   ]
  },
  {
   "cell_type": "code",
   "execution_count": null,
   "metadata": {},
   "outputs": [],
   "source": [
    "criterion = MyLoss()\n",
    "loss = criterion(outputs, targets)\n",
    "print(loss)"
   ]
  },
  {
   "cell_type": "code",
   "execution_count": null,
   "metadata": {},
   "outputs": [],
   "source": []
  }
 ],
 "metadata": {
  "kernelspec": {
   "display_name": "test",
   "language": "python",
   "name": "test"
  },
  "language_info": {
   "codemirror_mode": {
    "name": "ipython",
    "version": 3
   },
   "file_extension": ".py",
   "mimetype": "text/x-python",
   "name": "python",
   "nbconvert_exporter": "python",
   "pygments_lexer": "ipython3",
   "version": "3.7.3"
  }
 },
 "nbformat": 4,
 "nbformat_minor": 2
}
